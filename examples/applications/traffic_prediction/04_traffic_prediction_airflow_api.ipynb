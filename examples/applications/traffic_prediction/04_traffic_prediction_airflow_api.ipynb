{
 "cells": [
  {
   "cell_type": "code",
   "execution_count": 5,
   "id": "266beb47-a8d6-4d0d-b5ca-c3e7c09455ae",
   "metadata": {},
   "outputs": [],
   "source": [
    "# after kernel restart, always execute this line\n",
    "import sys\n",
    "sys.path.insert(0, 'path/to/everest-basecamp')"
   ]
  },
  {
   "cell_type": "markdown",
   "id": "883baacc-d739-450f-855e-1aac571f4e2e",
   "metadata": {},
   "source": [
    "Basecamp airflow wrapper flow\n",
    "----------------------------------\n",
    "The following demonstrates how basecamp can be used to controll airflows via `py4lexis`.\n",
    "\n",
    "As example, the \"traffic prediction\" workflow will be used, which can also be viewed at: https://portal.lexis.tech/workflow/airflow/lexis_everest_cloud_traffic_prediction"
   ]
  },
  {
   "cell_type": "code",
   "execution_count": null,
   "id": "c3bac69d-e2b3-4136-925a-b309367726a7",
   "metadata": {},
   "outputs": [],
   "source": [
    "from ebc import basecamp\n",
    "\n",
    "e_lexis = basecamp.airflow\n",
    "my_flow = 'lexis_everest_cloud_traffic_prediction'\n",
    "\n",
    "flow_params = e_lexis.get_params(my_flow)\n",
    "\n",
    "# (cell output removed due to secret leakage...)"
   ]
  },
  {
   "cell_type": "code",
   "execution_count": 11,
   "id": "869d3c9d-8362-464f-bd25-73fef96b0011",
   "metadata": {},
   "outputs": [
    {
     "data": {
      "text/plain": [
       "{'access_token': '',\n",
       " 'cloud_cmd': ['python', 'sw_inference.py'],\n",
       " 'cloud_dataset_dir': '/data/843b0c34-2239-11ee-8e73-005056b06219/',\n",
       " 'coeffs_dataset_dir': '/app/coefs/951dbd8a-2239-11ee-8e73-005056b06219/',\n",
       " 'description': 'IBM Traffic Predictor (Cloud)',\n",
       " 'docker_image': 'code.it4i.cz:5001/everest/traffic_prediction:cloudification_LEXIS',\n",
       " 'input_coefs_dataset_path': 'project/proj7da71aa534973e92147789bf264ebc8a/951dbd8a-2239-11ee-8e73-005056b06219',\n",
       " 'input_empty_dataset_path': 'project/proj7da71aa534973e92147789bf264ebc8a/ad4fa032-223c-11ee-bc8d-005056b06219',\n",
       " 'job1_input_dataset_path': 'project/proj7da71aa534973e92147789bf264ebc8a/843b0c34-2239-11ee-8e73-005056b06219/_traffic_dataset_20230426.csv',\n",
       " 'output_dataset_ddi_metadata': {'contributor': ['ADAS'],\n",
       "  'creator': ['IT4Innovations'],\n",
       "  'owner': [],\n",
       "  'publicationYear': '2024',\n",
       "  'publisher': ['IT4Innovations'],\n",
       "  'resourceType': 'NoneType',\n",
       "  'title': 'Traffic Prediction Output'},\n",
       " 'output_dataset_path': 'project/proj7da71aa534973e92147789bf264ebc8a',\n",
       " 'registry_secret': 'lexis-secret'}"
      ]
     },
     "execution_count": 11,
     "metadata": {},
     "output_type": "execute_result"
    }
   ],
   "source": [
    "flow_params"
   ]
  },
  {
   "cell_type": "code",
   "execution_count": 12,
   "id": "299b57e6-92ad-4eea-ac80-ccb654b70b0a",
   "metadata": {},
   "outputs": [],
   "source": [
    "# you could modify the params\n",
    "# flow_params[k] = v....\n",
    "\n",
    "post_response = e_lexis.execute(my_flow, flow_params)"
   ]
  },
  {
   "cell_type": "code",
   "execution_count": 13,
   "id": "2f6c340a-e9c8-4198-8005-44d934dcb78a",
   "metadata": {},
   "outputs": [
    {
     "data": {
      "text/plain": [
       "{'status': 200,\n",
       " 'workflow_id': 'lexis_everest_cloud_traffic_prediction',\n",
       " 'workflow_run_id': 'py4lexis_exec_2024-01-30T15:45:39.653072_24',\n",
       " 'State': 'queued'}"
      ]
     },
     "execution_count": 13,
     "metadata": {},
     "output_type": "execute_result"
    }
   ],
   "source": [
    "post_response"
   ]
  },
  {
   "cell_type": "code",
   "execution_count": 15,
   "id": "64e5c55d-2414-4a1a-b44b-3e151e9f6ad8",
   "metadata": {},
   "outputs": [],
   "source": [
    "# now, we ask for the current state\n",
    "flow_state = e_lexis.get_state(my_flow)"
   ]
  },
  {
   "cell_type": "code",
   "execution_count": 17,
   "id": "9eb8d2e7-3880-45a4-b3c2-f0d5315efb26",
   "metadata": {},
   "outputs": [
    {
     "data": {
      "text/plain": [
       "{'workflow_run_id': 'py4lexis_exec_2024-01-30T15:45:39.653072_24',\n",
       " 'execution_date': 'Tue Jan 30 14:45:40 2024',\n",
       " 'state': 'running'}"
      ]
     },
     "execution_count": 17,
     "metadata": {},
     "output_type": "execute_result"
    }
   ],
   "source": [
    "flow_state[-1]"
   ]
  },
  {
   "cell_type": "code",
   "execution_count": null,
   "id": "4d59c3ec-9098-47ae-bd39-498c825641b2",
   "metadata": {},
   "outputs": [],
   "source": []
  }
 ],
 "metadata": {
  "kernelspec": {
   "display_name": "EVEREST basecamp (venv311)",
   "language": "python",
   "name": "venv-ebc-311"
  },
  "language_info": {
   "codemirror_mode": {
    "name": "ipython",
    "version": 3
   },
   "file_extension": ".py",
   "mimetype": "text/x-python",
   "name": "python",
   "nbconvert_exporter": "python",
   "pygments_lexer": "ipython3",
   "version": "3.11.5"
  }
 },
 "nbformat": 4,
 "nbformat_minor": 5
}
